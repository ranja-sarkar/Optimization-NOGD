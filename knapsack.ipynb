{
  "nbformat": 4,
  "nbformat_minor": 0,
  "metadata": {
    "colab": {
      "provenance": [],
      "authorship_tag": "ABX9TyOzy97n9392bdATswDAEl9o",
      "include_colab_link": true
    },
    "kernelspec": {
      "name": "python3",
      "display_name": "Python 3"
    },
    "language_info": {
      "name": "python"
    }
  },
  "cells": [
    {
      "cell_type": "markdown",
      "metadata": {
        "id": "view-in-github",
        "colab_type": "text"
      },
      "source": [
        "<a href=\"https://colab.research.google.com/github/ranja-sarkar/Optimization-NOGD/blob/main/knapsack.ipynb\" target=\"_parent\"><img src=\"https://colab.research.google.com/assets/colab-badge.svg\" alt=\"Open In Colab\"/></a>"
      ]
    },
    {
      "cell_type": "code",
      "source": [
        "!pip install pulp"
      ],
      "metadata": {
        "id": "y7qL5P204_2d",
        "colab": {
          "base_uri": "https://localhost:8080/"
        },
        "outputId": "ee7c6459-cbf4-460d-bd93-91205dbf8999"
      },
      "execution_count": 3,
      "outputs": [
        {
          "output_type": "stream",
          "name": "stdout",
          "text": [
            "Collecting pulp\n",
            "  Downloading pulp-3.2.1-py3-none-any.whl.metadata (6.9 kB)\n",
            "Downloading pulp-3.2.1-py3-none-any.whl (16.4 MB)\n",
            "\u001b[2K   \u001b[90m━━━━━━━━━━━━━━━━━━━━━━━━━━━━━━━━━━━━━━━━\u001b[0m \u001b[32m16.4/16.4 MB\u001b[0m \u001b[31m46.5 MB/s\u001b[0m eta \u001b[36m0:00:00\u001b[0m\n",
            "\u001b[?25hInstalling collected packages: pulp\n",
            "Successfully installed pulp-3.2.1\n"
          ]
        }
      ]
    },
    {
      "cell_type": "markdown",
      "source": [
        ">>  Let’s say the constraint is the ability to only carry a maximum of 2.9 kg in a camping sack, while the total weight of all items is 3.09 kg. The item's value assists in choosing the optimum number of items.\n"
      ],
      "metadata": {
        "id": "HONeV5g46_5I"
      }
    },
    {
      "cell_type": "code",
      "source": [
        "from pulp import *\n",
        "\n",
        "#value per weight\n",
        "v = {'Sleeping bag': 4.17, 'Pillow': 5.13, 'Torch': 10.0, 'First Aid Kit': 8.0, 'Hand sanitiser': 2.0}\n",
        "\n",
        "#weight\n",
        "w = {'Sleeping bag': 1.2, 'Pillow': 0.39, 'Torch': 0.5, 'First Aid Kit': 0.5, 'Hand sanitiser': 0.5}\n",
        "\n",
        "limit = 2.9  #max\n",
        "items = list(sorted(v.keys()))\n",
        "\n",
        "# Model\n",
        "m = LpProblem(\"Knapsack Problem\", LpMaximize)\n",
        "\n",
        "# Variables\n",
        "x = LpVariable.dicts('x', items, lowBound = 0, upBound = 1, cat = LpInteger)\n",
        "# Objective\n",
        "m += sum(v[i]*x[i] for i in items)\n",
        "\n",
        "# Constraint\n",
        "m += sum(w[i]*x[i] for i in items) <= limit\n",
        "\n",
        "# Optimize\n",
        "m.solve()\n",
        "\n",
        "#print(\"Status = %s\" % LpStatus[m.status])\n",
        "\n",
        "for i in items:\n",
        "    print(\"%s = %f\" % (x[i].name, x[i].varValue))\n",
        "\n"
      ],
      "metadata": {
        "colab": {
          "base_uri": "https://localhost:8080/"
        },
        "id": "ukFXj0q34_zt",
        "outputId": "5f12c70b-e2cd-4c0e-e1a2-7cebdddc8702"
      },
      "execution_count": 4,
      "outputs": [
        {
          "output_type": "stream",
          "name": "stdout",
          "text": [
            "x_First_Aid_Kit = 1.000000\n",
            "x_Hand_sanitiser = 0.000000\n",
            "x_Pillow = 1.000000\n",
            "x_Sleeping_bag = 1.000000\n",
            "x_Torch = 1.000000\n"
          ]
        },
        {
          "output_type": "stream",
          "name": "stderr",
          "text": [
            "/usr/local/lib/python3.11/dist-packages/pulp/pulp.py:1455: UserWarning: Spaces are not permitted in the name. Converted to '_'\n",
            "  warnings.warn(\"Spaces are not permitted in the name. Converted to '_'\")\n"
          ]
        }
      ]
    },
    {
      "cell_type": "code",
      "source": [
        "print(\"Objective = %f\" % value(m.objective))"
      ],
      "metadata": {
        "colab": {
          "base_uri": "https://localhost:8080/"
        },
        "id": "cw9hSR5Y4_we",
        "outputId": "859befde-12aa-427c-8800-828e6990e520"
      },
      "execution_count": 5,
      "outputs": [
        {
          "output_type": "stream",
          "name": "stdout",
          "text": [
            "Objective = 27.300000\n"
          ]
        }
      ]
    },
    {
      "cell_type": "markdown",
      "source": [
        ">> The optimal solution lets go of carrying a hand sanitizer in the camping sack."
      ],
      "metadata": {
        "id": "8liWiu2u7b4P"
      }
    }
  ]
}