{
  "nbformat": 4,
  "nbformat_minor": 0,
  "metadata": {
    "colab": {
      "provenance": [],
      "authorship_tag": "ABX9TyPEa9hfmClOllyLqI3dTFli",
      "include_colab_link": true
    },
    "kernelspec": {
      "name": "python3",
      "display_name": "Python 3"
    },
    "language_info": {
      "name": "python"
    }
  },
  "cells": [
    {
      "cell_type": "markdown",
      "metadata": {
        "id": "view-in-github",
        "colab_type": "text"
      },
      "source": [
        "<a href=\"https://colab.research.google.com/github/ranja-sarkar/Optimization-NOGD/blob/main/knapsack_problem_with_ortools.ipynb\" target=\"_parent\"><img src=\"https://colab.research.google.com/assets/colab-badge.svg\" alt=\"Open In Colab\"/></a>"
      ]
    },
    {
      "cell_type": "code",
      "source": [
        "!pip install ortools"
      ],
      "metadata": {
        "colab": {
          "base_uri": "https://localhost:8080/"
        },
        "id": "XgcUgp778wUp",
        "outputId": "f04ca3a3-f609-4b55-b026-7d97ffee519b"
      },
      "execution_count": null,
      "outputs": [
        {
          "output_type": "stream",
          "name": "stdout",
          "text": [
            "Collecting ortools\n",
            "  Downloading ortools-9.11.4210-cp310-cp310-manylinux_2_17_x86_64.manylinux2014_x86_64.whl.metadata (3.0 kB)\n",
            "Collecting absl-py>=2.0.0 (from ortools)\n",
            "  Downloading absl_py-2.1.0-py3-none-any.whl.metadata (2.3 kB)\n",
            "Requirement already satisfied: numpy>=1.13.3 in /usr/local/lib/python3.10/dist-packages (from ortools) (1.26.4)\n",
            "Requirement already satisfied: pandas>=2.0.0 in /usr/local/lib/python3.10/dist-packages (from ortools) (2.2.2)\n",
            "Collecting protobuf<5.27,>=5.26.1 (from ortools)\n",
            "  Downloading protobuf-5.26.1-cp37-abi3-manylinux2014_x86_64.whl.metadata (592 bytes)\n",
            "Requirement already satisfied: immutabledict>=3.0.0 in /usr/local/lib/python3.10/dist-packages (from ortools) (4.2.1)\n",
            "Requirement already satisfied: python-dateutil>=2.8.2 in /usr/local/lib/python3.10/dist-packages (from pandas>=2.0.0->ortools) (2.8.2)\n",
            "Requirement already satisfied: pytz>=2020.1 in /usr/local/lib/python3.10/dist-packages (from pandas>=2.0.0->ortools) (2024.2)\n",
            "Requirement already satisfied: tzdata>=2022.7 in /usr/local/lib/python3.10/dist-packages (from pandas>=2.0.0->ortools) (2024.2)\n",
            "Requirement already satisfied: six>=1.5 in /usr/local/lib/python3.10/dist-packages (from python-dateutil>=2.8.2->pandas>=2.0.0->ortools) (1.16.0)\n",
            "Downloading ortools-9.11.4210-cp310-cp310-manylinux_2_17_x86_64.manylinux2014_x86_64.whl (28.1 MB)\n",
            "\u001b[2K   \u001b[90m━━━━━━━━━━━━━━━━━━━━━━━━━━━━━━━━━━━━━━━━\u001b[0m \u001b[32m28.1/28.1 MB\u001b[0m \u001b[31m37.8 MB/s\u001b[0m eta \u001b[36m0:00:00\u001b[0m\n",
            "\u001b[?25hDownloading absl_py-2.1.0-py3-none-any.whl (133 kB)\n",
            "\u001b[2K   \u001b[90m━━━━━━━━━━━━━━━━━━━━━━━━━━━━━━━━━━━━━━━━\u001b[0m \u001b[32m133.7/133.7 kB\u001b[0m \u001b[31m9.9 MB/s\u001b[0m eta \u001b[36m0:00:00\u001b[0m\n",
            "\u001b[?25hDownloading protobuf-5.26.1-cp37-abi3-manylinux2014_x86_64.whl (302 kB)\n",
            "\u001b[2K   \u001b[90m━━━━━━━━━━━━━━━━━━━━━━━━━━━━━━━━━━━━━━━━\u001b[0m \u001b[32m302.8/302.8 kB\u001b[0m \u001b[31m20.9 MB/s\u001b[0m eta \u001b[36m0:00:00\u001b[0m\n",
            "\u001b[?25hInstalling collected packages: protobuf, absl-py, ortools\n",
            "  Attempting uninstall: protobuf\n",
            "    Found existing installation: protobuf 4.25.5\n",
            "    Uninstalling protobuf-4.25.5:\n",
            "      Successfully uninstalled protobuf-4.25.5\n",
            "  Attempting uninstall: absl-py\n",
            "    Found existing installation: absl-py 1.4.0\n",
            "    Uninstalling absl-py-1.4.0:\n",
            "      Successfully uninstalled absl-py-1.4.0\n",
            "\u001b[31mERROR: pip's dependency resolver does not currently take into account all the packages that are installed. This behaviour is the source of the following dependency conflicts.\n",
            "tensorflow 2.17.1 requires protobuf!=4.21.0,!=4.21.1,!=4.21.2,!=4.21.3,!=4.21.4,!=4.21.5,<5.0.0dev,>=3.20.3, but you have protobuf 5.26.1 which is incompatible.\n",
            "tensorflow-metadata 1.13.1 requires absl-py<2.0.0,>=0.9, but you have absl-py 2.1.0 which is incompatible.\n",
            "tensorflow-metadata 1.13.1 requires protobuf<5,>=3.20.3, but you have protobuf 5.26.1 which is incompatible.\u001b[0m\u001b[31m\n",
            "\u001b[0mSuccessfully installed absl-py-2.1.0 ortools-9.11.4210 protobuf-5.26.1\n"
          ]
        }
      ]
    },
    {
      "cell_type": "code",
      "execution_count": null,
      "metadata": {
        "id": "n7GE3xBK8mio"
      },
      "outputs": [],
      "source": [
        "from ortools.algorithms.python import knapsack_solver"
      ]
    },
    {
      "cell_type": "markdown",
      "source": [
        "> Let’s say the constraint is the ability to only carry a maximum of 5 kg in a camping sack, while the total weight of all items is 6 kg. The sack contains a sleeping bag, pillow, torch, first-aid kit, and a hand sanitiser (data in that order).\n",
        "The item's value assists in choosing the optimum number of items."
      ],
      "metadata": {
        "id": "OpeW5_1IJV-u"
      }
    },
    {
      "cell_type": "code",
      "source": [
        "values = [\n",
        "  5, 2, 5, 4, 1\n",
        "]\n",
        "\n",
        "weights = [\n",
        "      [2, 1, 1, 1, 1],\n",
        "]\n",
        "\n",
        "capacities = [5]  #capacity of knapsack"
      ],
      "metadata": {
        "id": "6zW23WVJ8pMY"
      },
      "execution_count": null,
      "outputs": []
    },
    {
      "cell_type": "markdown",
      "source": [
        ">> Note: Like the CP-SAT solver, the knapsack solver works over the integers, so the data in the program can only contain integers. If your problem contains non-integer values, you can first convert them to integers by multiplying the data by a sufficiently large integer.\n",
        "\n",
        ">> An example of converting a non-integer constraint:\n",
        "https://developers.google.com/optimization/cp/cp_example#constraints\n"
      ],
      "metadata": {
        "id": "nUo-0wflEqEK"
      }
    },
    {
      "cell_type": "code",
      "source": [
        "#solver = knapsack_solver.KnapsackSolver(\n",
        "#    knapsack_solver.SolverType.KNAPSACK_MULTIDIMENSION_BRANCH_AND_BOUND_SOLVER,\n",
        "#    \"KnapsackExample\",)\n",
        "\n",
        "osolver = knapsack_solver.KnapsackSolver(\n",
        "    knapsack_solver.SolverType.KNAPSACK_DYNAMIC_PROGRAMMING_SOLVER,\n",
        "    'KnapsackExample')"
      ],
      "metadata": {
        "id": "r5yElBVf8pFA"
      },
      "execution_count": null,
      "outputs": []
    },
    {
      "cell_type": "code",
      "source": [
        "osolver.init(values, weights, capacities)\n",
        "computed_value = osolver.solve()\n",
        "\n",
        "packed_items = []\n",
        "packed_weights = []\n",
        "total_weight = 0\n",
        "print(\"Total value =\", computed_value)\n",
        "\n",
        "for i in range(len(values)):\n",
        "    if osolver.best_solution_contains(i):\n",
        "        packed_items.append(i)\n",
        "        packed_weights.append(weights[0][i])\n",
        "        total_weight += weights[0][i]\n",
        "\n",
        "print(\"Total weight:\", total_weight)\n",
        "print(\"Packed items:\", packed_items)\n",
        "print(\"Packed_weights:\", packed_weights)"
      ],
      "metadata": {
        "colab": {
          "base_uri": "https://localhost:8080/"
        },
        "id": "4X_rvzIZ8pCB",
        "outputId": "63e6219e-5209-4261-9c61-d60105459844"
      },
      "execution_count": null,
      "outputs": [
        {
          "output_type": "stream",
          "name": "stdout",
          "text": [
            "Total value = 16\n",
            "Total weight: 5\n",
            "Packed items: [0, 1, 2, 3]\n",
            "Packed_weights: [2, 1, 1, 1]\n"
          ]
        }
      ]
    },
    {
      "cell_type": "markdown",
      "source": [
        ">> Indices of the packed items refer to sleeping bag, pillow, torch, and first-aid kit. The hand sanitiser can be let go of the camping sack."
      ],
      "metadata": {
        "id": "m59ptvcYIyx7"
      }
    }
  ]
}